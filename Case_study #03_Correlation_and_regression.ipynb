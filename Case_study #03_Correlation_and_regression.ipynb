{
 "cells": [
  {
   "cell_type": "markdown",
   "id": "703e42e5",
   "metadata": {},
   "source": [
    "# Case Study on Correlation and Regression"
   ]
  },
  {
   "cell_type": "code",
   "execution_count": 2,
   "id": "fd0deca7",
   "metadata": {},
   "outputs": [],
   "source": [
    "# importing libraries \n",
    "import pandas as pd\n",
    "import numpy as np\n",
    "import matplotlib.pyplot as plt\n",
    "import seaborn as sns\n"
   ]
  },
  {
   "cell_type": "code",
   "execution_count": 3,
   "id": "4d049fae",
   "metadata": {},
   "outputs": [
    {
     "data": {
      "text/html": [
       "<div>\n",
       "<style scoped>\n",
       "    .dataframe tbody tr th:only-of-type {\n",
       "        vertical-align: middle;\n",
       "    }\n",
       "\n",
       "    .dataframe tbody tr th {\n",
       "        vertical-align: top;\n",
       "    }\n",
       "\n",
       "    .dataframe thead th {\n",
       "        text-align: right;\n",
       "    }\n",
       "</style>\n",
       "<table border=\"1\" class=\"dataframe\">\n",
       "  <thead>\n",
       "    <tr style=\"text-align: right;\">\n",
       "      <th></th>\n",
       "      <th>Date</th>\n",
       "      <th>Add1(in Thousands)</th>\n",
       "      <th>Add2(in Thousands)</th>\n",
       "      <th>Add3(in Thousands)</th>\n",
       "      <th>Add4(in Thousands)</th>\n",
       "      <th>Add5(in Thousands)</th>\n",
       "      <th>Profit(in Thousands)</th>\n",
       "    </tr>\n",
       "  </thead>\n",
       "  <tbody>\n",
       "    <tr>\n",
       "      <th>0</th>\n",
       "      <td>2018-10-08</td>\n",
       "      <td>208.00</td>\n",
       "      <td>222.25</td>\n",
       "      <td>206.85</td>\n",
       "      <td>216.00</td>\n",
       "      <td>215.15</td>\n",
       "      <td>4093.065</td>\n",
       "    </tr>\n",
       "    <tr>\n",
       "      <th>1</th>\n",
       "      <td>2018-10-05</td>\n",
       "      <td>217.00</td>\n",
       "      <td>218.60</td>\n",
       "      <td>205.90</td>\n",
       "      <td>210.25</td>\n",
       "      <td>209.20</td>\n",
       "      <td>4042.448</td>\n",
       "    </tr>\n",
       "    <tr>\n",
       "      <th>2</th>\n",
       "      <td>2018-10-04</td>\n",
       "      <td>223.50</td>\n",
       "      <td>227.80</td>\n",
       "      <td>216.15</td>\n",
       "      <td>217.25</td>\n",
       "      <td>218.20</td>\n",
       "      <td>4213.819</td>\n",
       "    </tr>\n",
       "    <tr>\n",
       "      <th>3</th>\n",
       "      <td>2018-10-03</td>\n",
       "      <td>230.00</td>\n",
       "      <td>237.50</td>\n",
       "      <td>225.75</td>\n",
       "      <td>226.45</td>\n",
       "      <td>227.60</td>\n",
       "      <td>4391.665</td>\n",
       "    </tr>\n",
       "    <tr>\n",
       "      <th>4</th>\n",
       "      <td>2018-10-01</td>\n",
       "      <td>234.55</td>\n",
       "      <td>234.60</td>\n",
       "      <td>221.05</td>\n",
       "      <td>230.30</td>\n",
       "      <td>230.90</td>\n",
       "      <td>4350.683</td>\n",
       "    </tr>\n",
       "  </tbody>\n",
       "</table>\n",
       "</div>"
      ],
      "text/plain": [
       "         Date  Add1(in Thousands)  Add2(in Thousands)  Add3(in Thousands)  \\\n",
       "0  2018-10-08              208.00              222.25              206.85   \n",
       "1  2018-10-05              217.00              218.60              205.90   \n",
       "2  2018-10-04              223.50              227.80              216.15   \n",
       "3  2018-10-03              230.00              237.50              225.75   \n",
       "4  2018-10-01              234.55              234.60              221.05   \n",
       "\n",
       "   Add4(in Thousands)  Add5(in Thousands)  Profit(in Thousands)  \n",
       "0              216.00              215.15              4093.065  \n",
       "1              210.25              209.20              4042.448  \n",
       "2              217.25              218.20              4213.819  \n",
       "3              226.45              227.60              4391.665  \n",
       "4              230.30              230.90              4350.683  "
      ]
     },
     "execution_count": 3,
     "metadata": {},
     "output_type": "execute_result"
    }
   ],
   "source": [
    "#Reading dataset\n",
    "data = pd. read_csv (r'Add_sales_data_2018.csv')\n",
    "data.head()"
   ]
  },
  {
   "cell_type": "code",
   "execution_count": 4,
   "id": "8fb34acb",
   "metadata": {},
   "outputs": [
    {
     "data": {
      "text/plain": [
       "(205, 7)"
      ]
     },
     "execution_count": 4,
     "metadata": {},
     "output_type": "execute_result"
    }
   ],
   "source": [
    "data.shape"
   ]
  },
  {
   "cell_type": "code",
   "execution_count": 5,
   "id": "4b02bd61",
   "metadata": {},
   "outputs": [
    {
     "name": "stdout",
     "output_type": "stream",
     "text": [
      "<class 'pandas.core.frame.DataFrame'>\n",
      "RangeIndex: 205 entries, 0 to 204\n",
      "Data columns (total 7 columns):\n",
      " #   Column                Non-Null Count  Dtype  \n",
      "---  ------                --------------  -----  \n",
      " 0   Date                  205 non-null    object \n",
      " 1   Add1(in Thousands)    205 non-null    float64\n",
      " 2   Add2(in Thousands)    205 non-null    float64\n",
      " 3   Add3(in Thousands)    205 non-null    float64\n",
      " 4   Add4(in Thousands)    205 non-null    float64\n",
      " 5   Add5(in Thousands)    205 non-null    float64\n",
      " 6   Profit(in Thousands)  205 non-null    float64\n",
      "dtypes: float64(6), object(1)\n",
      "memory usage: 11.3+ KB\n"
     ]
    }
   ],
   "source": [
    "data.info()"
   ]
  },
  {
   "cell_type": "code",
   "execution_count": 6,
   "id": "234fb5a4",
   "metadata": {},
   "outputs": [
    {
     "data": {
      "text/plain": [
       "Date                    0\n",
       "Add1(in Thousands)      0\n",
       "Add2(in Thousands)      0\n",
       "Add3(in Thousands)      0\n",
       "Add4(in Thousands)      0\n",
       "Add5(in Thousands)      0\n",
       "Profit(in Thousands)    0\n",
       "dtype: int64"
      ]
     },
     "execution_count": 6,
     "metadata": {},
     "output_type": "execute_result"
    }
   ],
   "source": [
    "data.isna().sum()"
   ]
  },
  {
   "cell_type": "code",
   "execution_count": 7,
   "id": "c8dfcb61",
   "metadata": {},
   "outputs": [
    {
     "data": {
      "text/html": [
       "<div>\n",
       "<style scoped>\n",
       "    .dataframe tbody tr th:only-of-type {\n",
       "        vertical-align: middle;\n",
       "    }\n",
       "\n",
       "    .dataframe tbody tr th {\n",
       "        vertical-align: top;\n",
       "    }\n",
       "\n",
       "    .dataframe thead th {\n",
       "        text-align: right;\n",
       "    }\n",
       "</style>\n",
       "<table border=\"1\" class=\"dataframe\">\n",
       "  <thead>\n",
       "    <tr style=\"text-align: right;\">\n",
       "      <th></th>\n",
       "      <th>Add1(in Thousands)</th>\n",
       "      <th>Add2(in Thousands)</th>\n",
       "      <th>Add3(in Thousands)</th>\n",
       "      <th>Add4(in Thousands)</th>\n",
       "      <th>Add5(in Thousands)</th>\n",
       "      <th>Profit(in Thousands)</th>\n",
       "    </tr>\n",
       "  </thead>\n",
       "  <tbody>\n",
       "    <tr>\n",
       "      <th>count</th>\n",
       "      <td>205.000000</td>\n",
       "      <td>205.000000</td>\n",
       "      <td>205.000000</td>\n",
       "      <td>205.000000</td>\n",
       "      <td>205.000000</td>\n",
       "      <td>205.000000</td>\n",
       "    </tr>\n",
       "    <tr>\n",
       "      <th>mean</th>\n",
       "      <td>267.577561</td>\n",
       "      <td>271.722439</td>\n",
       "      <td>262.990732</td>\n",
       "      <td>267.223902</td>\n",
       "      <td>267.152683</td>\n",
       "      <td>5059.630234</td>\n",
       "    </tr>\n",
       "    <tr>\n",
       "      <th>std</th>\n",
       "      <td>26.219588</td>\n",
       "      <td>25.914939</td>\n",
       "      <td>26.126704</td>\n",
       "      <td>26.238832</td>\n",
       "      <td>26.215360</td>\n",
       "      <td>486.910414</td>\n",
       "    </tr>\n",
       "    <tr>\n",
       "      <th>min</th>\n",
       "      <td>208.000000</td>\n",
       "      <td>218.600000</td>\n",
       "      <td>205.900000</td>\n",
       "      <td>210.250000</td>\n",
       "      <td>209.200000</td>\n",
       "      <td>4042.448000</td>\n",
       "    </tr>\n",
       "    <tr>\n",
       "      <th>25%</th>\n",
       "      <td>244.000000</td>\n",
       "      <td>248.500000</td>\n",
       "      <td>240.300000</td>\n",
       "      <td>243.050000</td>\n",
       "      <td>243.000000</td>\n",
       "      <td>4617.695000</td>\n",
       "    </tr>\n",
       "    <tr>\n",
       "      <th>50%</th>\n",
       "      <td>269.700000</td>\n",
       "      <td>274.200000</td>\n",
       "      <td>263.250000</td>\n",
       "      <td>268.900000</td>\n",
       "      <td>268.350000</td>\n",
       "      <td>5088.455000</td>\n",
       "    </tr>\n",
       "    <tr>\n",
       "      <th>75%</th>\n",
       "      <td>284.400000</td>\n",
       "      <td>288.800000</td>\n",
       "      <td>280.900000</td>\n",
       "      <td>284.500000</td>\n",
       "      <td>284.450000</td>\n",
       "      <td>5387.438000</td>\n",
       "    </tr>\n",
       "    <tr>\n",
       "      <th>max</th>\n",
       "      <td>327.700000</td>\n",
       "      <td>328.750000</td>\n",
       "      <td>321.650000</td>\n",
       "      <td>325.950000</td>\n",
       "      <td>325.750000</td>\n",
       "      <td>6137.800000</td>\n",
       "    </tr>\n",
       "  </tbody>\n",
       "</table>\n",
       "</div>"
      ],
      "text/plain": [
       "       Add1(in Thousands)  Add2(in Thousands)  Add3(in Thousands)  \\\n",
       "count          205.000000          205.000000          205.000000   \n",
       "mean           267.577561          271.722439          262.990732   \n",
       "std             26.219588           25.914939           26.126704   \n",
       "min            208.000000          218.600000          205.900000   \n",
       "25%            244.000000          248.500000          240.300000   \n",
       "50%            269.700000          274.200000          263.250000   \n",
       "75%            284.400000          288.800000          280.900000   \n",
       "max            327.700000          328.750000          321.650000   \n",
       "\n",
       "       Add4(in Thousands)  Add5(in Thousands)  Profit(in Thousands)  \n",
       "count          205.000000          205.000000            205.000000  \n",
       "mean           267.223902          267.152683           5059.630234  \n",
       "std             26.238832           26.215360            486.910414  \n",
       "min            210.250000          209.200000           4042.448000  \n",
       "25%            243.050000          243.000000           4617.695000  \n",
       "50%            268.900000          268.350000           5088.455000  \n",
       "75%            284.500000          284.450000           5387.438000  \n",
       "max            325.950000          325.750000           6137.800000  "
      ]
     },
     "execution_count": 7,
     "metadata": {},
     "output_type": "execute_result"
    }
   ],
   "source": [
    "data.describe()"
   ]
  },
  {
   "cell_type": "markdown",
   "id": "b5210893",
   "metadata": {},
   "source": [
    "# 1. First of all, check whether there is any relationship between the amount spent for advertising through five different companies and profit generated."
   ]
  },
  {
   "cell_type": "code",
   "execution_count": 8,
   "id": "16b1d3d9",
   "metadata": {},
   "outputs": [
    {
     "data": {
      "text/plain": [
       "<AxesSubplot:>"
      ]
     },
     "execution_count": 8,
     "metadata": {},
     "output_type": "execute_result"
    },
    {
     "data": {
      "image/png": "[encoded data removed]",
      "text/plain": [
       "<Figure size 1440x576 with 2 Axes>"
      ]
     },
     "metadata": {
      "needs_background": "light"
     },
     "output_type": "display_data"
    }
   ],
   "source": [
    "#To find relationship we use correlation matrix\n",
    "corrmatrix = data.corr()\n",
    "plt.subplots(figsize=(20,8))\n",
    "sns.heatmap(corrmatrix,vmin=.8,vmax=0.9,annot=True,linewidth=0.2)"
   ]
  },
  {
   "cell_type": "markdown",
   "id": "97fcb05c",
   "metadata": {},
   "source": [
    "# Insight\n",
    "**There is a positive correlation between the amount spent for advertising through five different companies and profit generated.**"
   ]
  },
  {
   "cell_type": "code",
   "execution_count": 9,
   "id": "02812ac3",
   "metadata": {},
   "outputs": [
    {
     "data": {
      "text/plain": [
       "Index(['Date', 'Add1(in Thousands)', 'Add2(in Thousands)',\n",
       "       'Add3(in Thousands)', 'Add4(in Thousands)', 'Add5(in Thousands)',\n",
       "       'Profit(in Thousands)'],\n",
       "      dtype='object')"
      ]
     },
     "execution_count": 9,
     "metadata": {},
     "output_type": "execute_result"
    }
   ],
   "source": [
    "data.columns"
   ]
  },
  {
   "cell_type": "code",
   "execution_count": 10,
   "id": "326c30a2",
   "metadata": {},
   "outputs": [],
   "source": [
    "y=data['Profit(in Thousands)']\n",
    "x=data.drop(['Profit(in Thousands)','Date'],axis=1)"
   ]
  },
  {
   "cell_type": "code",
   "execution_count": 11,
   "id": "28156ddc",
   "metadata": {},
   "outputs": [
    {
     "data": {
      "text/plain": [
       "(205, 5)"
      ]
     },
     "execution_count": 11,
     "metadata": {},
     "output_type": "execute_result"
    }
   ],
   "source": [
    "x.shape"
   ]
  },
  {
   "cell_type": "markdown",
   "id": "7fb1a995",
   "metadata": {},
   "source": [
    "# 2. Build a regression model to predict the profit from the given data and comment your findings on it."
   ]
  },
  {
   "cell_type": "code",
   "execution_count": 12,
   "id": "a791ab60",
   "metadata": {},
   "outputs": [],
   "source": [
    "from sklearn.model_selection import train_test_split\n",
    "x_train,x_test,y_train,y_test=train_test_split(x,y,random_state=42,test_size=0.25)"
   ]
  },
  {
   "cell_type": "code",
   "execution_count": 13,
   "id": "b2723a8e",
   "metadata": {},
   "outputs": [],
   "source": [
    "from sklearn import linear_model\n",
    "Ir =linear_model.LinearRegression()"
   ]
  },
  {
   "cell_type": "code",
   "execution_count": 14,
   "id": "356b1c28",
   "metadata": {},
   "outputs": [],
   "source": [
    "model=Ir.fit(x_train,y_train)"
   ]
  },
  {
   "cell_type": "code",
   "execution_count": 15,
   "id": "c582a8af",
   "metadata": {},
   "outputs": [],
   "source": [
    "predictions=model.predict(x_test)"
   ]
  },
  {
   "cell_type": "code",
   "execution_count": 16,
   "id": "2561a0bd",
   "metadata": {},
   "outputs": [
    {
     "name": "stdout",
     "output_type": "stream",
     "text": [
      "15     4152.066\n",
      "9      4446.441\n",
      "100    5131.898\n",
      "132    4907.560\n",
      "68     5004.282\n",
      "95     4623.793\n",
      "159    5384.175\n",
      "162    5328.025\n",
      "147    5175.051\n",
      "182    5956.323\n",
      "191    5780.799\n",
      "164    4997.719\n",
      "65     5075.858\n",
      "175    5784.540\n",
      "73     4936.120\n",
      "152    5065.652\n",
      "18     4190.965\n",
      "82     5034.726\n",
      "86     5015.536\n",
      "143    5134.657\n",
      "60     5145.131\n",
      "101    5421.940\n",
      "98     4569.293\n",
      "30     4598.292\n",
      "25     4436.321\n",
      "16     4175.677\n",
      "168    5616.791\n",
      "195    5667.250\n",
      "97     4648.834\n",
      "194    5717.838\n",
      "67     5001.615\n",
      "120    5182.368\n",
      "154    5017.503\n",
      "202    5545.013\n",
      "79     5013.207\n",
      "69     5030.451\n",
      "145    5108.626\n",
      "55     4760.877\n",
      "45     4606.340\n",
      "84     4925.861\n",
      "146    5250.788\n",
      "66     5038.222\n",
      "111    5491.792\n",
      "153    5019.997\n",
      "96     4647.356\n",
      "38     4486.380\n",
      "24     4435.174\n",
      "139    5300.437\n",
      "112    5425.190\n",
      "29     4482.183\n",
      "19     4193.095\n",
      "178    6062.457\n",
      "Name: Profit(in Thousands), dtype: float64\n"
     ]
    }
   ],
   "source": [
    "print(y_test)"
   ]
  },
  {
   "cell_type": "code",
   "execution_count": 17,
   "id": "f8071825",
   "metadata": {},
   "outputs": [
    {
     "name": "stdout",
     "output_type": "stream",
     "text": [
      "[4152.066 4446.441 5131.898 4907.56  5004.282 4623.793 5384.175 5328.025\n",
      " 5175.051 5956.323 5780.799 4997.719 5075.858 5784.54  4936.12  5065.652\n",
      " 4190.965 5034.726 5015.536 5134.657 5145.131 5421.94  4569.293 4598.292\n",
      " 4436.321 4175.677 5616.791 5667.25  4648.834 5717.838 5001.615 5182.368\n",
      " 5017.503 5545.013 5013.207 5030.451 5108.626 4760.877 4606.34  4925.861\n",
      " 5250.788 5038.222 5491.792 5019.997 4647.356 4486.38  4435.174 5300.437\n",
      " 5425.19  4482.183 4193.095 6062.457]\n"
     ]
    }
   ],
   "source": [
    "print(predictions)"
   ]
  },
  {
   "cell_type": "code",
   "execution_count": 18,
   "id": "64f6e7b8",
   "metadata": {},
   "outputs": [
    {
     "name": "stdout",
     "output_type": "stream",
     "text": [
      "MSE is:\n",
      " 8.11273293080854e-25\n"
     ]
    }
   ],
   "source": [
    "from sklearn.metrics import mean_squared_error\n",
    "print('MSE is:\\n',mean_squared_error(y_test,predictions))"
   ]
  },
  {
   "cell_type": "markdown",
   "id": "8c817a84",
   "metadata": {},
   "source": [
    "# Insight\n",
    "**The above data is scattered wildly around the regression line, so 8.113 is as good value.**"
   ]
  },
  {
   "cell_type": "code",
   "execution_count": 19,
   "id": "18b6f9f4",
   "metadata": {},
   "outputs": [
    {
     "name": "stdout",
     "output_type": "stream",
     "text": [
      "r2 score for a model which predicts mean value always is 1.0\n"
     ]
    }
   ],
   "source": [
    "#Coefficient of Determination\n",
    "from sklearn.metrics import r2_score\n",
    "r2 = r2_score(y_test,predictions)\n",
    "print('r2 score for a model which predicts mean value always is', r2)"
   ]
  },
  {
   "cell_type": "code",
   "execution_count": 20,
   "id": "0033bd20",
   "metadata": {},
   "outputs": [
    {
     "data": {
      "text/plain": [
       "array([ 1.  , 12.38,  3.5 ,  1.  ,  0.9 ])"
      ]
     },
     "execution_count": 20,
     "metadata": {},
     "output_type": "execute_result"
    }
   ],
   "source": [
    "model.coef_"
   ]
  },
  {
   "cell_type": "markdown",
   "id": "70cb2684",
   "metadata": {},
   "source": [
    "# 3. Predict the profit generated by the company, if they wish to spend the following amount for advertisement.\n",
    "# Add1(in Thousands) 290\n",
    "# Add2(in Thousands) 312\n",
    "# Add3(in Thousands) 309\n",
    "# Add4(in Thousands) 298\n",
    "# Add5(in Thousands) 320"
   ]
  },
  {
   "cell_type": "code",
   "execution_count": 21,
   "id": "26ad1230",
   "metadata": {},
   "outputs": [
    {
     "data": {
      "text/plain": [
       "5820.0599999999995"
      ]
     },
     "execution_count": 21,
     "metadata": {},
     "output_type": "execute_result"
    }
   ],
   "source": [
    "# To make prediction \n",
    "make_pred=[[290,312,309,298,320]]\n",
    "model.predict(make_pred).item()"
   ]
  },
  {
   "cell_type": "code",
   "execution_count": 22,
   "id": "89c81aa5",
   "metadata": {},
   "outputs": [
    {
     "data": {
      "text/plain": [
       "1.0"
      ]
     },
     "execution_count": 22,
     "metadata": {},
     "output_type": "execute_result"
    }
   ],
   "source": [
    "model.score(x,y)"
   ]
  },
  {
   "cell_type": "markdown",
   "id": "b2b52d71",
   "metadata": {},
   "source": [
    "# Insight\n",
    "**5820.059 is the the profit generated by the company, if they wish to spend these amount for advertisement.**"
   ]
  }
 ],
 "metadata": {
  "kernelspec": {
   "display_name": "Python 3",
   "language": "python",
   "name": "python3"
  },
  "language_info": {
   "codemirror_mode": {
    "name": "ipython",
    "version": 3
   },
   "file_extension": ".py",
   "mimetype": "text/x-python",
   "name": "python",
   "nbconvert_exporter": "python",
   "pygments_lexer": "ipython3",
   "version": "3.8.8"
  }
 },
 "nbformat": 4,
 "nbformat_minor": 5
}
